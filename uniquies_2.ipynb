{
 "cells": [
  {
   "cell_type": "code",
   "execution_count": 1,
   "id": "b42f439a",
   "metadata": {},
   "outputs": [],
   "source": [
    "import pandas as pd\n",
    "import numpy as np\n",
    "import matplotlib.pyplot as plt\n",
    "import arabic_reshaper\n",
    "from arabic_reshaper import reshape\n",
    "from bidi.algorithm import get_display\n",
    "import jalali_pandas\n",
    "from persiantools.jdatetime import JalaliDate, JalaliDateTime\n",
    "from sklearn.preprocessing import LabelEncoder\n",
    "import warnings\n",
    "warnings.filterwarnings(\"ignore\")"
   ]
  },
  {
   "cell_type": "code",
   "execution_count": null,
   "id": "0b1a9758",
   "metadata": {},
   "outputs": [],
   "source": []
  },
  {
   "cell_type": "code",
   "execution_count": null,
   "id": "40720bd1",
   "metadata": {},
   "outputs": [],
   "source": []
  },
  {
   "cell_type": "code",
   "execution_count": null,
   "id": "cc5df45b",
   "metadata": {},
   "outputs": [],
   "source": []
  },
  {
   "cell_type": "markdown",
   "id": "23e3e5dd",
   "metadata": {},
   "source": [
    "# uniqies"
   ]
  },
  {
   "cell_type": "code",
   "execution_count": 2,
   "id": "663a29b5",
   "metadata": {},
   "outputs": [
    {
     "data": {
      "text/html": [
       "<div>\n",
       "<style scoped>\n",
       "    .dataframe tbody tr th:only-of-type {\n",
       "        vertical-align: middle;\n",
       "    }\n",
       "\n",
       "    .dataframe tbody tr th {\n",
       "        vertical-align: top;\n",
       "    }\n",
       "\n",
       "    .dataframe thead th {\n",
       "        text-align: right;\n",
       "    }\n",
       "</style>\n",
       "<table border=\"1\" class=\"dataframe\">\n",
       "  <thead>\n",
       "    <tr style=\"text-align: right;\">\n",
       "      <th></th>\n",
       "      <th>کد ملی / کد اتباع خارجی</th>\n",
       "      <th>تاریخ پذیرش</th>\n",
       "      <th>سن</th>\n",
       "      <th>جنسیت</th>\n",
       "      <th>نام بخش بستری</th>\n",
       "      <th>سابقه تماس با بیمار مبتلا به کرونا ویروس</th>\n",
       "      <th>جواب تست کرونا ویروس</th>\n",
       "      <th>علا ئم اولیه - تب</th>\n",
       "      <th>علا ئم اولیه - سرفه</th>\n",
       "      <th>علا ئم اولیه - درد عضلانی</th>\n",
       "      <th>...</th>\n",
       "      <th>سینا-تاریخ تزریق دوز چهارم</th>\n",
       "      <th>سابقه ابتلا به موکورمایکوزیس</th>\n",
       "      <th>دوز دريافت واكسن</th>\n",
       "      <th>فوت شده</th>\n",
       "      <th>covid</th>\n",
       "      <th>sex</th>\n",
       "      <th>Early_symptoms</th>\n",
       "      <th>Digestion_symptoms</th>\n",
       "      <th>temp</th>\n",
       "      <th>Underlying_disease</th>\n",
       "    </tr>\n",
       "  </thead>\n",
       "  <tbody>\n",
       "    <tr>\n",
       "      <th>0</th>\n",
       "      <td>10026894.0</td>\n",
       "      <td>1400/07/03</td>\n",
       "      <td>32</td>\n",
       "      <td>مرد</td>\n",
       "      <td>1</td>\n",
       "      <td>1</td>\n",
       "      <td>0</td>\n",
       "      <td>0</td>\n",
       "      <td>1</td>\n",
       "      <td>0</td>\n",
       "      <td>...</td>\n",
       "      <td>0</td>\n",
       "      <td>0.0</td>\n",
       "      <td>0</td>\n",
       "      <td>0</td>\n",
       "      <td>1.0</td>\n",
       "      <td>1</td>\n",
       "      <td>1.0</td>\n",
       "      <td>0.0</td>\n",
       "      <td>0</td>\n",
       "      <td>0.0</td>\n",
       "    </tr>\n",
       "    <tr>\n",
       "      <th>1</th>\n",
       "      <td>10061207.0</td>\n",
       "      <td>1400/05/29</td>\n",
       "      <td>52</td>\n",
       "      <td>زن</td>\n",
       "      <td>2</td>\n",
       "      <td>1</td>\n",
       "      <td>مثبت</td>\n",
       "      <td>0</td>\n",
       "      <td>1</td>\n",
       "      <td>0</td>\n",
       "      <td>...</td>\n",
       "      <td>1401/05/18</td>\n",
       "      <td>0.0</td>\n",
       "      <td>بیمار دوز اول دریافت کرده</td>\n",
       "      <td>0</td>\n",
       "      <td>1.0</td>\n",
       "      <td>0</td>\n",
       "      <td>1.0</td>\n",
       "      <td>0.0</td>\n",
       "      <td>0</td>\n",
       "      <td>0.0</td>\n",
       "    </tr>\n",
       "    <tr>\n",
       "      <th>2</th>\n",
       "      <td>10087869.0</td>\n",
       "      <td>1401/11/23</td>\n",
       "      <td>33</td>\n",
       "      <td>مرد</td>\n",
       "      <td>3</td>\n",
       "      <td>1</td>\n",
       "      <td>منفی</td>\n",
       "      <td>0</td>\n",
       "      <td>0</td>\n",
       "      <td>1</td>\n",
       "      <td>...</td>\n",
       "      <td>1401/04/28</td>\n",
       "      <td>0.0</td>\n",
       "      <td>دوز سوم نیز دریافت شده است</td>\n",
       "      <td>0</td>\n",
       "      <td>0.0</td>\n",
       "      <td>1</td>\n",
       "      <td>2.0</td>\n",
       "      <td>2.0</td>\n",
       "      <td>1</td>\n",
       "      <td>4.0</td>\n",
       "    </tr>\n",
       "    <tr>\n",
       "      <th>3</th>\n",
       "      <td>10240691.0</td>\n",
       "      <td>1400/05/21</td>\n",
       "      <td>32</td>\n",
       "      <td>مرد</td>\n",
       "      <td>1</td>\n",
       "      <td>0</td>\n",
       "      <td>مثبت</td>\n",
       "      <td>0</td>\n",
       "      <td>0</td>\n",
       "      <td>1</td>\n",
       "      <td>...</td>\n",
       "      <td>0</td>\n",
       "      <td>0.0</td>\n",
       "      <td>0</td>\n",
       "      <td>0</td>\n",
       "      <td>1.0</td>\n",
       "      <td>1</td>\n",
       "      <td>1.0</td>\n",
       "      <td>0.0</td>\n",
       "      <td>0</td>\n",
       "      <td>0.0</td>\n",
       "    </tr>\n",
       "    <tr>\n",
       "      <th>4</th>\n",
       "      <td>10689915.0</td>\n",
       "      <td>1400/06/21</td>\n",
       "      <td>32</td>\n",
       "      <td>زن</td>\n",
       "      <td>1</td>\n",
       "      <td>1</td>\n",
       "      <td>0</td>\n",
       "      <td>0</td>\n",
       "      <td>1</td>\n",
       "      <td>1</td>\n",
       "      <td>...</td>\n",
       "      <td>0</td>\n",
       "      <td>0.0</td>\n",
       "      <td>0</td>\n",
       "      <td>0</td>\n",
       "      <td>0.0</td>\n",
       "      <td>0</td>\n",
       "      <td>2.0</td>\n",
       "      <td>0.0</td>\n",
       "      <td>0</td>\n",
       "      <td>0.0</td>\n",
       "    </tr>\n",
       "  </tbody>\n",
       "</table>\n",
       "<p>5 rows × 60 columns</p>\n",
       "</div>"
      ],
      "text/plain": [
       "   کد ملی / کد اتباع خارجی تاریخ پذیرش  سن جنسیت  نام بخش بستری  \\\n",
       "0               10026894.0  1400/07/03  32   مرد              1   \n",
       "1               10061207.0  1400/05/29  52    زن              2   \n",
       "2               10087869.0  1401/11/23  33   مرد              3   \n",
       "3               10240691.0  1400/05/21  32   مرد              1   \n",
       "4               10689915.0  1400/06/21  32    زن              1   \n",
       "\n",
       "   سابقه تماس با بیمار مبتلا به کرونا ویروس جواب تست کرونا ویروس  \\\n",
       "0                                         1                    0   \n",
       "1                                         1                 مثبت   \n",
       "2                                         1                 منفی   \n",
       "3                                         0                 مثبت   \n",
       "4                                         1                    0   \n",
       "\n",
       "   علا ئم اولیه - تب  علا ئم اولیه - سرفه  علا ئم اولیه - درد عضلانی  ...  \\\n",
       "0                  0                    1                          0  ...   \n",
       "1                  0                    1                          0  ...   \n",
       "2                  0                    0                          1  ...   \n",
       "3                  0                    0                          1  ...   \n",
       "4                  0                    1                          1  ...   \n",
       "\n",
       "   سینا-تاریخ تزریق دوز چهارم  سابقه ابتلا به موکورمایکوزیس  \\\n",
       "0                           0                           0.0   \n",
       "1                  1401/05/18                           0.0   \n",
       "2                  1401/04/28                           0.0   \n",
       "3                           0                           0.0   \n",
       "4                           0                           0.0   \n",
       "\n",
       "             دوز دريافت واكسن  فوت شده  covid  sex  Early_symptoms  \\\n",
       "0                           0        0    1.0    1             1.0   \n",
       "1   بیمار دوز اول دریافت کرده        0    1.0    0             1.0   \n",
       "2  دوز سوم نیز دریافت شده است        0    0.0    1             2.0   \n",
       "3                           0        0    1.0    1             1.0   \n",
       "4                           0        0    0.0    0             2.0   \n",
       "\n",
       "   Digestion_symptoms  temp  Underlying_disease  \n",
       "0                 0.0     0                 0.0  \n",
       "1                 0.0     0                 0.0  \n",
       "2                 2.0     1                 4.0  \n",
       "3                 0.0     0                 0.0  \n",
       "4                 0.0     0                 0.0  \n",
       "\n",
       "[5 rows x 60 columns]"
      ]
     },
     "execution_count": 2,
     "metadata": {},
     "output_type": "execute_result"
    }
   ],
   "source": [
    "df2=pd.read_csv(r'first_preP_1.csv')\n",
    "df2.head()"
   ]
  },
  {
   "cell_type": "code",
   "execution_count": 3,
   "id": "8ff35ee8",
   "metadata": {},
   "outputs": [],
   "source": [
    "df2['code']=df2['کد ملی / کد اتباع خارجی'].astype('str')"
   ]
  },
  {
   "cell_type": "code",
   "execution_count": 4,
   "id": "775104a8",
   "metadata": {},
   "outputs": [],
   "source": [
    "gf = df2.sort_values(by='covid')"
   ]
  },
  {
   "cell_type": "code",
   "execution_count": 5,
   "id": "b4037500",
   "metadata": {},
   "outputs": [],
   "source": [
    "hf = gf.drop_duplicates(subset='code', keep='last')"
   ]
  },
  {
   "cell_type": "code",
   "execution_count": 9,
   "id": "6a12d1e7",
   "metadata": {},
   "outputs": [
    {
     "data": {
      "text/plain": [
       "(35169, 61)"
      ]
     },
     "execution_count": 9,
     "metadata": {},
     "output_type": "execute_result"
    }
   ],
   "source": [
    "mf.shape"
   ]
  },
  {
   "cell_type": "code",
   "execution_count": 8,
   "id": "6829a05a",
   "metadata": {},
   "outputs": [],
   "source": [
    "mf=hf[hf['covid']==1]"
   ]
  },
  {
   "cell_type": "code",
   "execution_count": null,
   "id": "be59d85a",
   "metadata": {},
   "outputs": [],
   "source": []
  },
  {
   "cell_type": "code",
   "execution_count": 7,
   "id": "820d385b",
   "metadata": {},
   "outputs": [],
   "source": [
    "mf.drop(['covid','کد ملی / کد اتباع خارجی'],axis=1,inplace=True)"
   ]
  },
  {
   "cell_type": "code",
   "execution_count": 8,
   "id": "c71524b4",
   "metadata": {},
   "outputs": [],
   "source": [
    "mf.to_csv('uniqued.csv',index=False,encoding='utf-8-sig')"
   ]
  },
  {
   "cell_type": "code",
   "execution_count": null,
   "id": "1947243f",
   "metadata": {},
   "outputs": [],
   "source": []
  }
 ],
 "metadata": {
  "kernelspec": {
   "display_name": "Python 3 (ipykernel)",
   "language": "python",
   "name": "python3"
  },
  "language_info": {
   "codemirror_mode": {
    "name": "ipython",
    "version": 3
   },
   "file_extension": ".py",
   "mimetype": "text/x-python",
   "name": "python",
   "nbconvert_exporter": "python",
   "pygments_lexer": "ipython3",
   "version": "3.10.7"
  }
 },
 "nbformat": 4,
 "nbformat_minor": 5
}
